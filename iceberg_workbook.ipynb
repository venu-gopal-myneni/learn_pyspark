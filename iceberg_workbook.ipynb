{
 "cells": [
  {
   "cell_type": "code",
   "execution_count": 4,
   "id": "3312dfcb-424e-413e-b590-c3c88c65355a",
   "metadata": {},
   "outputs": [
    {
     "name": "stdout",
     "output_type": "stream",
     "text": [
      "file:///home/venumyneni/personal/projects/learn_pyspark/spark_warehouse/iceberg\n"
     ]
    },
    {
     "data": {
      "text/plain": [
       "<pyspark.conf.SparkConf at 0x7fe06cd33640>"
      ]
     },
     "execution_count": 4,
     "metadata": {},
     "output_type": "execute_result"
    }
   ],
   "source": [
    "from pyspark.sql import *\n",
    "\n",
    "from pyspark import SparkConf\n",
    "from settings import warehouse_location\n",
    "conf = SparkConf()\n",
    "catalog_loc = warehouse_location\n",
    "print(catalog_loc)\n",
    "\n",
    "conf.set(\n",
    "    \"spark.jars.packages\",\n",
    "    \"org.apache.iceberg:iceberg-spark-runtime-3.5_2.12:1.4.2\")\n",
    "conf.set(\"spark.sql.execution.pyarrow.enabled\", \"true\")\n"
   ]
  },
  {
   "cell_type": "code",
   "execution_count": 5,
   "id": "9182887f-d75f-4d8c-b8e5-3254d2a76d14",
   "metadata": {},
   "outputs": [],
   "source": [
    "catalog = \"dev_catalog1\"\n",
    "schema = \"nyc\"\n",
    "table = \"taxis\""
   ]
  },
  {
   "cell_type": "code",
   "execution_count": 6,
   "id": "c56ac971-59ff-449f-8771-582e673902b5",
   "metadata": {},
   "outputs": [
    {
     "name": "stderr",
     "output_type": "stream",
     "text": [
      "24/01/06 14:36:22 WARN Utils: Your hostname, SG-LN-N1170 resolves to a loopback address: 127.0.1.1; using 192.168.29.196 instead (on interface wlp0s20f3)\n",
      "24/01/06 14:36:22 WARN Utils: Set SPARK_LOCAL_IP if you need to bind to another address\n"
     ]
    },
    {
     "name": "stdout",
     "output_type": "stream",
     "text": [
      ":: loading settings :: url = jar:file:/opt/spark/jars/ivy-2.5.1.jar!/org/apache/ivy/core/settings/ivysettings.xml\n"
     ]
    },
    {
     "name": "stderr",
     "output_type": "stream",
     "text": [
      "Ivy Default Cache set to: /home/venumyneni/.ivy2/cache\n",
      "The jars for the packages stored in: /home/venumyneni/.ivy2/jars\n",
      "org.apache.iceberg#iceberg-spark-runtime-3.5_2.12 added as a dependency\n",
      ":: resolving dependencies :: org.apache.spark#spark-submit-parent-b1909e19-fe81-4440-aa86-3b6edc588a1b;1.0\n",
      "\tconfs: [default]\n",
      "\tfound org.apache.iceberg#iceberg-spark-runtime-3.5_2.12;1.4.2 in central\n",
      ":: resolution report :: resolve 89ms :: artifacts dl 2ms\n",
      "\t:: modules in use:\n",
      "\torg.apache.iceberg#iceberg-spark-runtime-3.5_2.12;1.4.2 from central in [default]\n",
      "\t---------------------------------------------------------------------\n",
      "\t|                  |            modules            ||   artifacts   |\n",
      "\t|       conf       | number| search|dwnlded|evicted|| number|dwnlded|\n",
      "\t---------------------------------------------------------------------\n",
      "\t|      default     |   1   |   0   |   0   |   0   ||   1   |   0   |\n",
      "\t---------------------------------------------------------------------\n",
      ":: retrieving :: org.apache.spark#spark-submit-parent-b1909e19-fe81-4440-aa86-3b6edc588a1b\n",
      "\tconfs: [default]\n",
      "\t0 artifacts copied, 1 already retrieved (0kB/3ms)\n",
      "24/01/06 14:36:23 WARN NativeCodeLoader: Unable to load native-hadoop library for your platform... using builtin-java classes where applicable\n",
      "Setting default log level to \"WARN\".\n",
      "To adjust logging level use sc.setLogLevel(newLevel). For SparkR, use setLogLevel(newLevel).\n"
     ]
    }
   ],
   "source": [
    "conf.set(f\"spark.sql.catalog.{catalog}\", \"org.apache.iceberg.spark.SparkCatalog\")\n",
    "conf.set(f\"spark.sql.catalog.{catalog}.type\",\"hadoop\")\n",
    "\n",
    "\n",
    "conf.set(f\"spark.sql.catalog.{catalog}.warehouse\",catalog_loc )\n",
    "conf.set(\"spark.sql.defaultCatalog\",catalog)\n",
    "\n",
    "spark = SparkSession.builder.config(conf=conf).getOrCreate()"
   ]
  },
  {
   "cell_type": "code",
   "execution_count": 7,
   "id": "1fe4d5f3-00d1-4b4d-a73d-02f3d16eb1f5",
   "metadata": {},
   "outputs": [],
   "source": [
    "tab = spark.table(f\"{catalog}.{schema}.{table}\")"
   ]
  },
  {
   "cell_type": "code",
   "execution_count": 9,
   "id": "67bc12ba-dd2a-4bd0-89a3-d4c93a57ca5c",
   "metadata": {},
   "outputs": [
    {
     "name": "stderr",
     "output_type": "stream",
     "text": [
      "                                                                                \r"
     ]
    },
    {
     "name": "stdout",
     "output_type": "stream",
     "text": [
      "+---------+-------+-------------+-----------+------------------+\n",
      "|vendor_id|trip_id|trip_distance|fare_amount|store_and_fwd_flag|\n",
      "+---------+-------+-------------+-----------+------------------+\n",
      "|        1|      2|         78.2|       NULL|              NULL|\n",
      "+---------+-------+-------------+-----------+------------------+\n",
      "\n"
     ]
    }
   ],
   "source": [
    "tab.show()"
   ]
  },
  {
   "cell_type": "code",
   "execution_count": 10,
   "id": "f792e23f-ca59-405c-884f-39e178ad6ed0",
   "metadata": {},
   "outputs": [
    {
     "data": {
      "text/plain": [
       "pyspark.sql.dataframe.DataFrame"
      ]
     },
     "execution_count": 10,
     "metadata": {},
     "output_type": "execute_result"
    }
   ],
   "source": [
    "type(tab)"
   ]
  },
  {
   "cell_type": "code",
   "execution_count": 20,
   "id": "8eba631a-76be-4966-92ec-734555bf7c71",
   "metadata": {},
   "outputs": [
    {
     "data": {
      "text/plain": [
       "DataFrame[col_name: string, data_type: string, comment: string]"
      ]
     },
     "execution_count": 20,
     "metadata": {},
     "output_type": "execute_result"
    }
   ],
   "source": [
    "spark.sql(f\"DESCRIBE TABLE {schema}.{table};\")"
   ]
  },
  {
   "cell_type": "code",
   "execution_count": 25,
   "id": "f4c1cb83-1563-49ea-908b-fb7320e074fa",
   "metadata": {},
   "outputs": [
    {
     "name": "stdout",
     "output_type": "stream",
     "text": [
      "+-------+--------------------+-----------+-------+------------+------------------+--------------------+--------------------+--------------------+----------------+--------------------+--------------------+------------+-------------+------------+-------------+--------------------+\n",
      "|content|           file_path|file_format|spec_id|record_count|file_size_in_bytes|        column_sizes|        value_counts|   null_value_counts|nan_value_counts|        lower_bounds|        upper_bounds|key_metadata|split_offsets|equality_ids|sort_order_id|    readable_metrics|\n",
      "+-------+--------------------+-----------+-------+------------+------------------+--------------------+--------------------+--------------------+----------------+--------------------+--------------------+------------+-------------+------------+-------------+--------------------+\n",
      "|      0|file:/home/venumy...|    PARQUET|      0|           1|              1411|{1 -> 46, 2 -> 46...|{1 -> 1, 2 -> 1, ...|{1 -> 0, 2 -> 0, ...|{4 -> 0, 3 -> 0}|{1 -> [01 00 00 0...|{1 -> [01 00 00 0...|        NULL|          [4]|        NULL|            0|{{38, 1, 1, 0, NU...|\n",
      "+-------+--------------------+-----------+-------+------------+------------------+--------------------+--------------------+--------------------+----------------+--------------------+--------------------+------------+-------------+------------+-------------+--------------------+\n",
      "\n"
     ]
    }
   ],
   "source": [
    "spark.sql(f\"SELECT * FROM {catalog}.{schema}.{table}.files;\").show()\n"
   ]
  },
  {
   "cell_type": "code",
   "execution_count": 30,
   "id": "8eabad35-3526-4897-820c-14ccb2c284be",
   "metadata": {},
   "outputs": [],
   "source": [
    "tab = spark.read.format(\"iceberg\").load(f\"/home/venumyneni/personal/projects/learn_pyspark/spark_warehouse/iceberg/nyc/taxis\")"
   ]
  },
  {
   "cell_type": "code",
   "execution_count": 31,
   "id": "70d8a39a-b01d-4eef-aec6-3c2638979f80",
   "metadata": {},
   "outputs": [
    {
     "name": "stdout",
     "output_type": "stream",
     "text": [
      "+---------+-------+-------------+-----------+------------------+\n",
      "|vendor_id|trip_id|trip_distance|fare_amount|store_and_fwd_flag|\n",
      "+---------+-------+-------------+-----------+------------------+\n",
      "|        1|      2|         78.2|       NULL|              NULL|\n",
      "+---------+-------+-------------+-----------+------------------+\n",
      "\n"
     ]
    }
   ],
   "source": [
    "tab.show()"
   ]
  },
  {
   "cell_type": "code",
   "execution_count": null,
   "id": "cff84d2c-8c29-4451-881f-f7888ade42b8",
   "metadata": {},
   "outputs": [],
   "source": []
  }
 ],
 "metadata": {
  "kernelspec": {
   "display_name": "Python 3 (ipykernel)",
   "language": "python",
   "name": "python3"
  },
  "language_info": {
   "codemirror_mode": {
    "name": "ipython",
    "version": 3
   },
   "file_extension": ".py",
   "mimetype": "text/x-python",
   "name": "python",
   "nbconvert_exporter": "python",
   "pygments_lexer": "ipython3",
   "version": "3.8.10"
  }
 },
 "nbformat": 4,
 "nbformat_minor": 5
}
