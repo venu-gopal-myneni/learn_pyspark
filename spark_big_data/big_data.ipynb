{
 "cells": [
  {
   "cell_type": "code",
   "execution_count": 1,
   "id": "cbe695b4-f3fc-4992-a8cf-bbe356b8b91d",
   "metadata": {},
   "outputs": [],
   "source": [
    "import pyspark\n",
    "import time\n",
    "from functools import wraps\n",
    "import pyspark.sql.functions as f\n",
    "def time_it(func):\n",
    "    @wraps(func)\n",
    "    def wrapper(*args, **kwargs):\n",
    "        start = time.time()\n",
    "        result = func(*args, **kwargs)\n",
    "        end = time.time()\n",
    "        print(f\"⏱️ Function '{func.__name__}' executed in {end - start:.4f} seconds\")\n",
    "        return result\n",
    "    return wrapper\n"
   ]
  },
  {
   "cell_type": "code",
   "execution_count": 2,
   "id": "9083a301-4ae7-42b6-9af6-0da6e4cd29ae",
   "metadata": {},
   "outputs": [
    {
     "data": {
      "text/html": [
       "\n",
       "            <div>\n",
       "                <p><b>SparkSession - in-memory</b></p>\n",
       "                \n",
       "        <div>\n",
       "            <p><b>SparkContext</b></p>\n",
       "\n",
       "            <p><a href=\"http://vmyneni:4040\">Spark UI</a></p>\n",
       "\n",
       "            <dl>\n",
       "              <dt>Version</dt>\n",
       "                <dd><code>v3.5.0</code></dd>\n",
       "              <dt>Master</dt>\n",
       "                <dd><code>local[4]</code></dd>\n",
       "              <dt>AppName</dt>\n",
       "                <dd><code>Big Data Application</code></dd>\n",
       "            </dl>\n",
       "        </div>\n",
       "        \n",
       "            </div>\n",
       "        "
      ],
      "text/plain": [
       "<pyspark.sql.session.SparkSession at 0x152646133e0>"
      ]
     },
     "execution_count": 2,
     "metadata": {},
     "output_type": "execute_result"
    }
   ],
   "source": [
    "spark = pyspark.sql.SparkSession.builder.master(\"local[4]\").appName(\"Big Data Application\").getOrCreate()\n",
    "spark"
   ]
  },
  {
   "cell_type": "markdown",
   "id": "c1dcc43d-84f2-47c5-b45f-4ca329fb4d15",
   "metadata": {},
   "source": [
    "## Read CSV & Basic Operations"
   ]
  },
  {
   "cell_type": "code",
   "execution_count": 16,
   "id": "d1b60bc1-65bb-421d-8bd9-19f1b0ce9576",
   "metadata": {},
   "outputs": [],
   "source": [
    "df = spark.read.format(\"csv\").option(\"header\", \"true\").load(r\"C:\\Users\\mailv\\projects\\data\\hmda_2017_nationwide_all-records_labels\\hmda_2017_nationwide_all-records_labels.csv\")\n"
   ]
  },
  {
   "cell_type": "code",
   "execution_count": 11,
   "id": "b40c5243-1bb0-4fac-9751-e5288e4d4d56",
   "metadata": {},
   "outputs": [
    {
     "data": {
      "text/plain": [
       "14285496"
      ]
     },
     "execution_count": 11,
     "metadata": {},
     "output_type": "execute_result"
    }
   ],
   "source": [
    "df.count()"
   ]
  },
  {
   "cell_type": "code",
   "execution_count": 12,
   "id": "0d388a51-f425-4792-9f6c-ac7ef884c4e2",
   "metadata": {},
   "outputs": [
    {
     "data": {
      "text/plain": [
       "84"
      ]
     },
     "execution_count": 12,
     "metadata": {},
     "output_type": "execute_result"
    }
   ],
   "source": [
    "df.rdd.getNumPartitions()"
   ]
  },
  {
   "cell_type": "code",
   "execution_count": 13,
   "id": "2d0aa439-8dce-4ae9-ba68-7b0e78225dae",
   "metadata": {},
   "outputs": [
    {
     "name": "stdout",
     "output_type": "stream",
     "text": [
      "+--------------------+-------+\n",
      "|         agency_name|  count|\n",
      "+--------------------+-------+\n",
      "|Federal Reserve S...| 366432|\n",
      "|Department of Hou...|7083670|\n",
      "|Office of the Com...| 463411|\n",
      "|Federal Deposit I...|1128554|\n",
      "|Consumer Financia...|4222898|\n",
      "|National Credit U...|1020531|\n",
      "+--------------------+-------+\n",
      "\n"
     ]
    }
   ],
   "source": [
    "df.groupBy(\"agency_name\").count().show()"
   ]
  },
  {
   "cell_type": "code",
   "execution_count": 17,
   "id": "0b2e9b67-bcdb-4d87-809e-0f8e1a9e26c4",
   "metadata": {},
   "outputs": [
    {
     "name": "stdout",
     "output_type": "stream",
     "text": [
      "root\n",
      " |-- as_of_year: string (nullable = true)\n",
      " |-- respondent_id: string (nullable = true)\n",
      " |-- agency_name: string (nullable = true)\n",
      " |-- agency_abbr: string (nullable = true)\n",
      " |-- agency_code: string (nullable = true)\n",
      " |-- loan_type_name: string (nullable = true)\n",
      " |-- loan_type: string (nullable = true)\n",
      " |-- property_type_name: string (nullable = true)\n",
      " |-- property_type: string (nullable = true)\n",
      " |-- loan_purpose_name: string (nullable = true)\n",
      " |-- loan_purpose: string (nullable = true)\n",
      " |-- owner_occupancy_name: string (nullable = true)\n",
      " |-- owner_occupancy: string (nullable = true)\n",
      " |-- loan_amount_000s: string (nullable = true)\n",
      " |-- preapproval_name: string (nullable = true)\n",
      " |-- preapproval: string (nullable = true)\n",
      " |-- action_taken_name: string (nullable = true)\n",
      " |-- action_taken: string (nullable = true)\n",
      " |-- msamd_name: string (nullable = true)\n",
      " |-- msamd: string (nullable = true)\n",
      " |-- state_name: string (nullable = true)\n",
      " |-- state_abbr: string (nullable = true)\n",
      " |-- state_code: string (nullable = true)\n",
      " |-- county_name: string (nullable = true)\n",
      " |-- county_code: string (nullable = true)\n",
      " |-- census_tract_number: string (nullable = true)\n",
      " |-- applicant_ethnicity_name: string (nullable = true)\n",
      " |-- applicant_ethnicity: string (nullable = true)\n",
      " |-- co_applicant_ethnicity_name: string (nullable = true)\n",
      " |-- co_applicant_ethnicity: string (nullable = true)\n",
      " |-- applicant_race_name_1: string (nullable = true)\n",
      " |-- applicant_race_1: string (nullable = true)\n",
      " |-- applicant_race_name_2: string (nullable = true)\n",
      " |-- applicant_race_2: string (nullable = true)\n",
      " |-- applicant_race_name_3: string (nullable = true)\n",
      " |-- applicant_race_3: string (nullable = true)\n",
      " |-- applicant_race_name_4: string (nullable = true)\n",
      " |-- applicant_race_4: string (nullable = true)\n",
      " |-- applicant_race_name_5: string (nullable = true)\n",
      " |-- applicant_race_5: string (nullable = true)\n",
      " |-- co_applicant_race_name_1: string (nullable = true)\n",
      " |-- co_applicant_race_1: string (nullable = true)\n",
      " |-- co_applicant_race_name_2: string (nullable = true)\n",
      " |-- co_applicant_race_2: string (nullable = true)\n",
      " |-- co_applicant_race_name_3: string (nullable = true)\n",
      " |-- co_applicant_race_3: string (nullable = true)\n",
      " |-- co_applicant_race_name_4: string (nullable = true)\n",
      " |-- co_applicant_race_4: string (nullable = true)\n",
      " |-- co_applicant_race_name_5: string (nullable = true)\n",
      " |-- co_applicant_race_5: string (nullable = true)\n",
      " |-- applicant_sex_name: string (nullable = true)\n",
      " |-- applicant_sex: string (nullable = true)\n",
      " |-- co_applicant_sex_name: string (nullable = true)\n",
      " |-- co_applicant_sex: string (nullable = true)\n",
      " |-- applicant_income_000s: string (nullable = true)\n",
      " |-- purchaser_type_name: string (nullable = true)\n",
      " |-- purchaser_type: string (nullable = true)\n",
      " |-- denial_reason_name_1: string (nullable = true)\n",
      " |-- denial_reason_1: string (nullable = true)\n",
      " |-- denial_reason_name_2: string (nullable = true)\n",
      " |-- denial_reason_2: string (nullable = true)\n",
      " |-- denial_reason_name_3: string (nullable = true)\n",
      " |-- denial_reason_3: string (nullable = true)\n",
      " |-- rate_spread: string (nullable = true)\n",
      " |-- hoepa_status_name: string (nullable = true)\n",
      " |-- hoepa_status: string (nullable = true)\n",
      " |-- lien_status_name: string (nullable = true)\n",
      " |-- lien_status: string (nullable = true)\n",
      " |-- edit_status_name: string (nullable = true)\n",
      " |-- edit_status: string (nullable = true)\n",
      " |-- sequence_number: string (nullable = true)\n",
      " |-- population: string (nullable = true)\n",
      " |-- minority_population: string (nullable = true)\n",
      " |-- hud_median_family_income: string (nullable = true)\n",
      " |-- tract_to_msamd_income: string (nullable = true)\n",
      " |-- number_of_owner_occupied_units: string (nullable = true)\n",
      " |-- number_of_1_to_4_family_units: string (nullable = true)\n",
      " |-- application_date_indicator: string (nullable = true)\n",
      "\n"
     ]
    }
   ],
   "source": [
    "df.printSchema()"
   ]
  },
  {
   "cell_type": "code",
   "execution_count": 18,
   "id": "fe02451b-828a-4437-a207-8a5042186222",
   "metadata": {},
   "outputs": [
    {
     "name": "stdout",
     "output_type": "stream",
     "text": [
      "+----------+-----------------+--------------------+--------------------+--------------------+--------------------+--------------------+\n",
      "|state_abbr|loan_purpose_name|   action_taken_name|    preapproval_name|denial_reason_name_1|denial_reason_name_2|denial_reason_name_3|\n",
      "+----------+-----------------+--------------------+--------------------+--------------------+--------------------+--------------------+\n",
      "|        PA|      Refinancing|Application withd...|      Not applicable|                NULL|                NULL|                NULL|\n",
      "|        WA|      Refinancing|Application denie...|      Not applicable|      Credit history|                NULL|                NULL|\n",
      "|        UT|      Refinancing|File closed for i...|      Not applicable|                NULL|                NULL|                NULL|\n",
      "|        MO|      Refinancing|     Loan originated|      Not applicable|                NULL|                NULL|                NULL|\n",
      "|        IL|      Refinancing|Application withd...|      Not applicable|                NULL|                NULL|                NULL|\n",
      "|        MI|    Home purchase|Application withd...|      Not applicable|                NULL|                NULL|                NULL|\n",
      "|        FL| Home improvement|Application denie...|      Not applicable|      Credit history|                NULL|                NULL|\n",
      "|        CA|    Home purchase|Application denie...|      Not applicable|Credit applicatio...|                NULL|                NULL|\n",
      "|        CA|    Home purchase|     Loan originated|      Not applicable|                NULL|                NULL|                NULL|\n",
      "|        WI|      Refinancing|     Loan originated|      Not applicable|                NULL|                NULL|                NULL|\n",
      "|        MO|      Refinancing|Application denie...|      Not applicable|      Credit history|                NULL|                NULL|\n",
      "|        AR|    Home purchase|Application denie...|      Not applicable|      Credit history|                NULL|                NULL|\n",
      "|        TX|    Home purchase|Application denie...|Preapproval was n...|      Credit history|                NULL|                NULL|\n",
      "|        CO|    Home purchase|Loan purchased by...|      Not applicable|                NULL|                NULL|                NULL|\n",
      "|        FL|    Home purchase|Application withd...|Preapproval was n...|                NULL|                NULL|                NULL|\n",
      "|        TX|    Home purchase|Loan purchased by...|      Not applicable|                NULL|                NULL|                NULL|\n",
      "|        NY|      Refinancing|     Loan originated|      Not applicable|                NULL|                NULL|                NULL|\n",
      "|        FL|    Home purchase|Loan purchased by...|      Not applicable|                NULL|                NULL|                NULL|\n",
      "|        CA| Home improvement|Application denie...|      Not applicable|      Credit history|               Other|                NULL|\n",
      "|        PA|      Refinancing|Application denie...|      Not applicable|                NULL|                NULL|                NULL|\n",
      "+----------+-----------------+--------------------+--------------------+--------------------+--------------------+--------------------+\n",
      "only showing top 20 rows\n",
      "\n"
     ]
    }
   ],
   "source": [
    "df.select(\"state_abbr\",\"loan_purpose_name\", \"action_taken_name\",\"preapproval_name\",\"denial_reason_name_1\",\"denial_reason_name_2\",\"denial_reason_name_3\").show()"
   ]
  },
  {
   "cell_type": "code",
   "execution_count": 14,
   "id": "aeccfb19-b88d-422e-aea8-2a7029c1cdf8",
   "metadata": {},
   "outputs": [
    {
     "data": {
      "text/plain": [
       "[Row(action_taken_name='Application denied by financial institution', count=2009743),\n",
       " Row(action_taken_name='Loan originated', count=7339057),\n",
       " Row(action_taken_name='Application approved but not accepted', count=409797),\n",
       " Row(action_taken_name='File closed for incompleteness', count=601148),\n",
       " Row(action_taken_name='Preapproval request approved but not accepted', count=36106),\n",
       " Row(action_taken_name='Application withdrawn by applicant', count=1696289),\n",
       " Row(action_taken_name='Preapproval request denied by financial institution', count=106680),\n",
       " Row(action_taken_name='Loan purchased by the institution', count=2086676)]"
      ]
     },
     "execution_count": 14,
     "metadata": {},
     "output_type": "execute_result"
    }
   ],
   "source": [
    "df.groupBy(\"action_taken_name\").count().collect()"
   ]
  },
  {
   "cell_type": "code",
   "execution_count": 15,
   "id": "2c48c387-396f-4eb7-a540-a9e315139b2e",
   "metadata": {},
   "outputs": [
    {
     "data": {
      "text/plain": [
       "84"
      ]
     },
     "execution_count": 15,
     "metadata": {},
     "output_type": "execute_result"
    }
   ],
   "source": [
    "df.rdd.getNumPartitions()"
   ]
  },
  {
   "cell_type": "markdown",
   "id": "88a866c3-98a0-4282-b866-1cbed8325a19",
   "metadata": {},
   "source": [
    "## Get percentage per action category"
   ]
  },
  {
   "cell_type": "code",
   "execution_count": 22,
   "id": "abe336f0-5488-4029-a508-bb9ff8d02acf",
   "metadata": {},
   "outputs": [
    {
     "name": "stdout",
     "output_type": "stream",
     "text": [
      "DataFrame[action_taken_name: string, count: bigint]\n",
      "14285496\n"
     ]
    }
   ],
   "source": [
    "from pyspark.sql import functions as f\n",
    "df_action_taken_name_counts = df.groupBy(\"action_taken_name\").count()\n",
    "df_action_taken_name_counts.write.format(\"parquet\").save(\"df_action_taken_name_counts.parquet\")\n",
    "total_row_count = df.count()\n",
    "print(df_action_taken_name_counts)\n",
    "print(total_row_count)"
   ]
  },
  {
   "cell_type": "code",
   "execution_count": 27,
   "id": "2c10547c-cac7-4e5b-8d0b-b742a336f23f",
   "metadata": {},
   "outputs": [
    {
     "name": "stdout",
     "output_type": "stream",
     "text": [
      "+--------------------+-------+----------------------------+\n",
      "|   action_taken_name|  count|percentage_action_taken_name|\n",
      "+--------------------+-------+----------------------------+\n",
      "|Application denie...|2009743|                       14.07|\n",
      "|     Loan originated|7339057|                       51.37|\n",
      "|Application appro...| 409797|                        2.87|\n",
      "|File closed for i...| 601148|                        4.21|\n",
      "|Preapproval reque...|  36106|                        0.25|\n",
      "|Application withd...|1696289|                       11.87|\n",
      "|Preapproval reque...| 106680|                        0.75|\n",
      "|Loan purchased by...|2086676|                       14.61|\n",
      "+--------------------+-------+----------------------------+\n",
      "\n"
     ]
    }
   ],
   "source": [
    "df_action_taken_name_counts_percentage = df_action_taken_name_counts.withColumn(\"percentage_action_taken_name\",f.round(f.col(\"count\")*100/f.lit(total_row_count),2))\n",
    "df_action_taken_name_counts_percentage.show()"
   ]
  },
  {
   "cell_type": "code",
   "execution_count": 29,
   "id": "7f28c81c-8c5c-4aff-b92d-5551d8dff196",
   "metadata": {},
   "outputs": [
    {
     "data": {
      "text/plain": [
       "1"
      ]
     },
     "execution_count": 29,
     "metadata": {},
     "output_type": "execute_result"
    }
   ],
   "source": [
    "df_action_taken_name_counts.rdd.getNumPartitions()"
   ]
  },
  {
   "cell_type": "markdown",
   "id": "8382a23d-ebc8-493c-99a6-c66a179726bb",
   "metadata": {},
   "source": [
    "# Save as parquet"
   ]
  },
  {
   "cell_type": "code",
   "execution_count": 18,
   "id": "480af457-d98a-4438-817b-9bac73a1052e",
   "metadata": {},
   "outputs": [],
   "source": [
    "df.write.partitionBy(\"as_of_year\").mode(\"overwrite\").parquet(r\"C:\\Users\\mailv\\projects\\data\\hmda_2017_nationwide_all-records_labels\\hmda_2017_nationwide_all-records_labels\")"
   ]
  },
  {
   "cell_type": "markdown",
   "id": "304f7817-d50c-4976-b0aa-721a97c8b31a",
   "metadata": {},
   "source": [
    "# Comparing csv and parquet for count"
   ]
  },
  {
   "cell_type": "code",
   "execution_count": 10,
   "id": "c1addc1c-2838-4de3-b08d-fb249b76f9ea",
   "metadata": {},
   "outputs": [
    {
     "name": "stdout",
     "output_type": "stream",
     "text": [
      "⏱️ Function 'park_count' executed in 1.2319 seconds\n"
     ]
    },
    {
     "data": {
      "text/plain": [
       "14285496"
      ]
     },
     "execution_count": 10,
     "metadata": {},
     "output_type": "execute_result"
    }
   ],
   "source": [
    "@time_it\n",
    "def park_count():\n",
    "    df_park = spark.read.format(\"parquet\").load(r\"C:\\Users\\mailv\\projects\\data\\hmda_2017_nationwide_all-records_labels\\hmda_2017_nationwide_all-records_labels\").select(\"respondent_id\",\"state_abbr\")\n",
    "    return df_park.count()\n",
    "park_count()"
   ]
  },
  {
   "cell_type": "code",
   "execution_count": 12,
   "id": "6ce4b9a5-060e-4f0f-be79-b298d95b48e4",
   "metadata": {},
   "outputs": [
    {
     "name": "stdout",
     "output_type": "stream",
     "text": [
      "⏱️ Function 'csv_count' executed in 13.7547 seconds\n"
     ]
    },
    {
     "data": {
      "text/plain": [
       "14285496"
      ]
     },
     "execution_count": 12,
     "metadata": {},
     "output_type": "execute_result"
    }
   ],
   "source": [
    "@time_it\n",
    "def csv_count():\n",
    "    df_csv = spark.read.format(\"csv\").option(\"header\",True).load(r\"C:\\Users\\mailv\\projects\\data\\hmda_2017_nationwide_all-records_labels\\hmda_2017_nationwide_all-records_labels.csv\").select(\"respondent_id\",\"state_abbr\")\n",
    "    return df_csv.count()\n",
    "csv_count()"
   ]
  },
  {
   "cell_type": "markdown",
   "id": "e8d13c9b-a5f7-4e34-af4e-2bfa0dcb13db",
   "metadata": {},
   "source": [
    "# Comparing parquet,csv for count with a where filter"
   ]
  },
  {
   "cell_type": "code",
   "execution_count": 3,
   "id": "74abcadb-913b-468e-a520-23a0c0dbeee6",
   "metadata": {},
   "outputs": [
    {
     "name": "stdout",
     "output_type": "stream",
     "text": [
      "⏱️ Function 'park_count' executed in 5.9587 seconds\n"
     ]
    },
    {
     "data": {
      "text/plain": [
       "473757"
      ]
     },
     "execution_count": 3,
     "metadata": {},
     "output_type": "execute_result"
    }
   ],
   "source": [
    "@time_it\n",
    "def park_count():\n",
    "    df_park = spark.read.format(\"parquet\").load(r\"C:\\Users\\mailv\\projects\\data\\hmda_2017_nationwide_all-records_labels\\hmda_2017_nationwide_all-records_labels\").select(\"respondent_id\",\"state_abbr\").filter(f.col(\"state_abbr\")==\"PA\")\n",
    "    return df_park.count()\n",
    "park_count()"
   ]
  },
  {
   "cell_type": "code",
   "execution_count": 5,
   "id": "0449c514-4693-4f55-9550-ceaef350e1bf",
   "metadata": {},
   "outputs": [
    {
     "name": "stdout",
     "output_type": "stream",
     "text": [
      "⏱️ Function 'csv_count' executed in 22.0480 seconds\n"
     ]
    },
    {
     "data": {
      "text/plain": [
       "473757"
      ]
     },
     "execution_count": 5,
     "metadata": {},
     "output_type": "execute_result"
    }
   ],
   "source": [
    "@time_it\n",
    "def csv_count():\n",
    "    df_csv = spark.read.format(\"csv\").option(\"header\",True).load(r\"C:\\Users\\mailv\\projects\\data\\hmda_2017_nationwide_all-records_labels\\hmda_2017_nationwide_all-records_labels.csv\").select(\"respondent_id\",\"state_abbr\").filter(f.col(\"state_abbr\")==\"PA\")\n",
    "    return df_csv.count()\n",
    "csv_count()"
   ]
  },
  {
   "cell_type": "code",
   "execution_count": 20,
   "id": "4460fb8b-7d84-489a-bcd8-d95e7cc97d51",
   "metadata": {},
   "outputs": [
    {
     "data": {
      "text/plain": [
       "'spark_catalog'"
      ]
     },
     "execution_count": 20,
     "metadata": {},
     "output_type": "execute_result"
    }
   ],
   "source": [
    "spark.catalog.currentCatalog()\n"
   ]
  },
  {
   "cell_type": "markdown",
   "id": "b1f4aba7-dc0d-4c70-be98-768adf812f1d",
   "metadata": {},
   "source": [
    "# Comparing number of partitions "
   ]
  },
  {
   "cell_type": "code",
   "execution_count": 9,
   "id": "43e661ca-5d6a-40bf-ae64-a787b8fb446f",
   "metadata": {},
   "outputs": [
    {
     "name": "stdout",
     "output_type": "stream",
     "text": [
      "14285496\n",
      "num parts 7\n",
      " **** After group by ....\n",
      "54\n",
      "num parts 1\n"
     ]
    }
   ],
   "source": [
    "df = spark.read.format(\"parquet\").load(r\"C:\\Users\\mailv\\projects\\data\\hmda_2017_nationwide_all-records_labels\\hmda_2017_nationwide_all-records_labels\").select(\"respondent_id\",\"state_abbr\")\n",
    "print(df.count())\n",
    "print(\"num parts\",df.rdd.getNumPartitions())\n",
    "print(\" **** After group by ....\")\n",
    "df =df.groupBy(\"state_abbr\").count()\n",
    "print(df.count())\n",
    "print(\"num parts\",df.rdd.getNumPartitions())"
   ]
  },
  {
   "cell_type": "code",
   "execution_count": null,
   "id": "92456f7c-3181-4837-b755-ffdd53ebe137",
   "metadata": {},
   "outputs": [],
   "source": []
  }
 ],
 "metadata": {
  "kernelspec": {
   "display_name": "Python 3 (ipykernel)",
   "language": "python",
   "name": "python3"
  },
  "language_info": {
   "codemirror_mode": {
    "name": "ipython",
    "version": 3
   },
   "file_extension": ".py",
   "mimetype": "text/x-python",
   "name": "python",
   "nbconvert_exporter": "python",
   "pygments_lexer": "ipython3",
   "version": "3.12.1"
  }
 },
 "nbformat": 4,
 "nbformat_minor": 5
}
